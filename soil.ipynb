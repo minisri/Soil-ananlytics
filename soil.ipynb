{
 "cells": [
  {
   "cell_type": "code",
   "execution_count": 3,
   "metadata": {},
   "outputs": [],
   "source": [
    "import pandas as pd\n",
    "import scipy.stats as stats\n",
    "import researchpy as rp\n",
    "import statsmodels.api as sm\n",
    "from statsmodels.formula.api import ols\n",
    "import numpy as np    \n",
    "import matplotlib.pyplot as plt\n",
    "import seaborn as sns\n"
   ]
  },
  {
   "cell_type": "code",
   "execution_count": 4,
   "metadata": {},
   "outputs": [],
   "source": [
    "df=pd.read_csv(r'C:\\Users\\ananyya srivastava\\Desktop\\SoilS.csv')"
   ]
  },
  {
   "cell_type": "code",
   "execution_count": 5,
   "metadata": {},
   "outputs": [
    {
     "data": {
      "text/html": [
       "<div>\n",
       "<style scoped>\n",
       "    .dataframe tbody tr th:only-of-type {\n",
       "        vertical-align: middle;\n",
       "    }\n",
       "\n",
       "    .dataframe tbody tr th {\n",
       "        vertical-align: top;\n",
       "    }\n",
       "\n",
       "    .dataframe thead th {\n",
       "        text-align: right;\n",
       "    }\n",
       "</style>\n",
       "<table border=\"1\" class=\"dataframe\">\n",
       "  <thead>\n",
       "    <tr style=\"text-align: right;\">\n",
       "      <th></th>\n",
       "      <th>District</th>\n",
       "      <th>Block</th>\n",
       "      <th>Panchayath</th>\n",
       "      <th>SampleCode</th>\n",
       "      <th>FarmerName</th>\n",
       "      <th>ContactAddress</th>\n",
       "      <th>f_dateofsampling</th>\n",
       "      <th>f_sex</th>\n",
       "      <th>f_surveyno</th>\n",
       "      <th>f_latitude</th>\n",
       "      <th>...</th>\n",
       "      <th>Soil_s</th>\n",
       "      <th>Soil_Zn</th>\n",
       "      <th>Soil_b</th>\n",
       "      <th>Soil_Fe</th>\n",
       "      <th>Soil_Cu</th>\n",
       "      <th>Soil_Mn</th>\n",
       "      <th>Zinc_Method</th>\n",
       "      <th>Copper_Method</th>\n",
       "      <th>Iron_Method</th>\n",
       "      <th>Manganese_Method</th>\n",
       "    </tr>\n",
       "  </thead>\n",
       "  <tbody>\n",
       "    <tr>\n",
       "      <th>0</th>\n",
       "      <td>Thrissur</td>\n",
       "      <td>Anthikkad Block</td>\n",
       "      <td>Manaloor</td>\n",
       "      <td>TCR/TRS/MNL/215/3/182896</td>\n",
       "      <td>sunil.K.A</td>\n",
       "      <td>kunnath house\\r\\n Manaloor post</td>\n",
       "      <td>3/26/2011</td>\n",
       "      <td>male</td>\n",
       "      <td>215/3</td>\n",
       "      <td>0</td>\n",
       "      <td>...</td>\n",
       "      <td>34.40</td>\n",
       "      <td>8.09</td>\n",
       "      <td>0.59</td>\n",
       "      <td>48.20</td>\n",
       "      <td>9.45</td>\n",
       "      <td>21.32</td>\n",
       "      <td>HCl</td>\n",
       "      <td>HCl</td>\n",
       "      <td>HCl</td>\n",
       "      <td>HCl</td>\n",
       "    </tr>\n",
       "    <tr>\n",
       "      <th>1</th>\n",
       "      <td>Kottayam</td>\n",
       "      <td>Erattupetta Block</td>\n",
       "      <td>Melukavu</td>\n",
       "      <td>KTM/MNC/MLK/729/11/182897</td>\n",
       "      <td>T.M. Joseph</td>\n",
       "      <td>Valluvadikkal House\\r\\nKizhakkanmattom\\r\\n</td>\n",
       "      <td>3/18/2011</td>\n",
       "      <td>male</td>\n",
       "      <td>729/11</td>\n",
       "      <td>0</td>\n",
       "      <td>...</td>\n",
       "      <td>25.00</td>\n",
       "      <td>3.77</td>\n",
       "      <td>1.68</td>\n",
       "      <td>23.60</td>\n",
       "      <td>1.63</td>\n",
       "      <td>14.00</td>\n",
       "      <td>HCl</td>\n",
       "      <td>HCl</td>\n",
       "      <td>HCl</td>\n",
       "      <td>HCl</td>\n",
       "    </tr>\n",
       "    <tr>\n",
       "      <th>2</th>\n",
       "      <td>Kollam</td>\n",
       "      <td>Sasthamcotta Block</td>\n",
       "      <td>Kunnathur</td>\n",
       "      <td>KLM/KNT/KNT/60/6/182898</td>\n",
       "      <td>SUMANGALAAMMA</td>\n",
       "      <td>THENGANAYYATHU\\r\\nIVERKALA PADI NORTH\\r\\nPUTHA...</td>\n",
       "      <td>4/4/2011</td>\n",
       "      <td>female</td>\n",
       "      <td>60/6</td>\n",
       "      <td>0</td>\n",
       "      <td>...</td>\n",
       "      <td>0.77</td>\n",
       "      <td>6.89</td>\n",
       "      <td>0.53</td>\n",
       "      <td>2.99</td>\n",
       "      <td>0.83</td>\n",
       "      <td>6.80</td>\n",
       "      <td>HCl</td>\n",
       "      <td>HCl</td>\n",
       "      <td>HCl</td>\n",
       "      <td>HCl</td>\n",
       "    </tr>\n",
       "    <tr>\n",
       "      <th>3</th>\n",
       "      <td>Kottayam</td>\n",
       "      <td>Erattupetta Block</td>\n",
       "      <td>Melukavu</td>\n",
       "      <td>KTM/MNC/MLK/669/2/182899</td>\n",
       "      <td>P.V. Georgekutty</td>\n",
       "      <td>Paikadayil House\\r\\nKonnippadu P.O\\r\\n</td>\n",
       "      <td>3/18/2011</td>\n",
       "      <td>male</td>\n",
       "      <td>669/2</td>\n",
       "      <td>0</td>\n",
       "      <td>...</td>\n",
       "      <td>25.00</td>\n",
       "      <td>2.43</td>\n",
       "      <td>1.82</td>\n",
       "      <td>18.30</td>\n",
       "      <td>1.66</td>\n",
       "      <td>4.20</td>\n",
       "      <td>HCl</td>\n",
       "      <td>HCl</td>\n",
       "      <td>HCl</td>\n",
       "      <td>HCl</td>\n",
       "    </tr>\n",
       "    <tr>\n",
       "      <th>4</th>\n",
       "      <td>Thrissur</td>\n",
       "      <td>Anthikkad Block</td>\n",
       "      <td>Manaloor</td>\n",
       "      <td>TCR/TRS/MNL/918/1/182900</td>\n",
       "      <td>Abhilash</td>\n",
       "      <td>Thottupura house\\r\\n Manaloor post</td>\n",
       "      <td>3/26/2011</td>\n",
       "      <td>male</td>\n",
       "      <td>918/1</td>\n",
       "      <td>0</td>\n",
       "      <td>...</td>\n",
       "      <td>35.60</td>\n",
       "      <td>13.89</td>\n",
       "      <td>1.66</td>\n",
       "      <td>92.90</td>\n",
       "      <td>9.90</td>\n",
       "      <td>21.31</td>\n",
       "      <td>HCl</td>\n",
       "      <td>HCl</td>\n",
       "      <td>HCl</td>\n",
       "      <td>HCl</td>\n",
       "    </tr>\n",
       "  </tbody>\n",
       "</table>\n",
       "<p>5 rows × 40 columns</p>\n",
       "</div>"
      ],
      "text/plain": [
       "   District               Block Panchayath                 SampleCode  \\\n",
       "0  Thrissur     Anthikkad Block   Manaloor   TCR/TRS/MNL/215/3/182896   \n",
       "1  Kottayam   Erattupetta Block   Melukavu  KTM/MNC/MLK/729/11/182897   \n",
       "2    Kollam  Sasthamcotta Block  Kunnathur    KLM/KNT/KNT/60/6/182898   \n",
       "3  Kottayam   Erattupetta Block   Melukavu   KTM/MNC/MLK/669/2/182899   \n",
       "4  Thrissur     Anthikkad Block   Manaloor   TCR/TRS/MNL/918/1/182900   \n",
       "\n",
       "         FarmerName                                     ContactAddress  \\\n",
       "0         sunil.K.A                   kunnath house\\r\\n Manaloor post    \n",
       "1       T.M. Joseph         Valluvadikkal House\\r\\nKizhakkanmattom\\r\\n   \n",
       "2     SUMANGALAAMMA  THENGANAYYATHU\\r\\nIVERKALA PADI NORTH\\r\\nPUTHA...   \n",
       "3  P.V. Georgekutty             Paikadayil House\\r\\nKonnippadu P.O\\r\\n   \n",
       "4          Abhilash                Thottupura house\\r\\n Manaloor post    \n",
       "\n",
       "  f_dateofsampling   f_sex f_surveyno  f_latitude       ...         Soil_s  \\\n",
       "0        3/26/2011    male      215/3           0       ...          34.40   \n",
       "1        3/18/2011    male     729/11           0       ...          25.00   \n",
       "2         4/4/2011  female       60/6           0       ...           0.77   \n",
       "3        3/18/2011    male      669/2           0       ...          25.00   \n",
       "4        3/26/2011    male      918/1           0       ...          35.60   \n",
       "\n",
       "  Soil_Zn  Soil_b  Soil_Fe  Soil_Cu  Soil_Mn  Zinc_Method  Copper_Method  \\\n",
       "0    8.09    0.59    48.20     9.45    21.32          HCl            HCl   \n",
       "1    3.77    1.68    23.60     1.63    14.00          HCl            HCl   \n",
       "2    6.89    0.53     2.99     0.83     6.80          HCl            HCl   \n",
       "3    2.43    1.82    18.30     1.66     4.20          HCl            HCl   \n",
       "4   13.89    1.66    92.90     9.90    21.31          HCl            HCl   \n",
       "\n",
       "   Iron_Method Manganese_Method  \n",
       "0          HCl              HCl  \n",
       "1          HCl              HCl  \n",
       "2          HCl              HCl  \n",
       "3          HCl              HCl  \n",
       "4          HCl              HCl  \n",
       "\n",
       "[5 rows x 40 columns]"
      ]
     },
     "execution_count": 5,
     "metadata": {},
     "output_type": "execute_result"
    }
   ],
   "source": [
    "df.head()"
   ]
  },
  {
   "cell_type": "code",
   "execution_count": 6,
   "metadata": {},
   "outputs": [
    {
     "name": "stdout",
     "output_type": "stream",
     "text": [
      "<class 'pandas.core.frame.DataFrame'>\n",
      "RangeIndex: 2000 entries, 0 to 1999\n",
      "Data columns (total 40 columns):\n",
      "District            2000 non-null object\n",
      "Block               2000 non-null object\n",
      "Panchayath          2000 non-null object\n",
      "SampleCode          2000 non-null object\n",
      "FarmerName          2000 non-null object\n",
      "ContactAddress      2000 non-null object\n",
      "f_dateofsampling    2000 non-null object\n",
      "f_sex               2000 non-null object\n",
      "f_surveyno          2000 non-null object\n",
      "f_latitude          2000 non-null int64\n",
      "f_longitude         2000 non-null int64\n",
      "f_ownership         2000 non-null object\n",
      "f_ownername         0 non-null float64\n",
      "f_panchayat         2000 non-null int64\n",
      "f_pincode           546 non-null float64\n",
      "f_district          2000 non-null int64\n",
      "f_taluk             2000 non-null int64\n",
      "f_block             2000 non-null int64\n",
      "f_mob_no            387 non-null float64\n",
      "SoilType            2000 non-null object\n",
      "crop1               2000 non-null object\n",
      "crop2               2000 non-null object\n",
      "crop3               2000 non-null object\n",
      "Soil_pH             2000 non-null float64\n",
      "Soil_ec             2000 non-null float64\n",
      "Soil_OrganicC       2000 non-null float64\n",
      "Soil_P              2000 non-null float64\n",
      "Soil_k              2000 non-null float64\n",
      "Soil_Ca             2000 non-null float64\n",
      "Soil_Mg             2000 non-null float64\n",
      "Soil_s              2000 non-null float64\n",
      "Soil_Zn             2000 non-null float64\n",
      "Soil_b              2000 non-null float64\n",
      "Soil_Fe             2000 non-null float64\n",
      "Soil_Cu             2000 non-null float64\n",
      "Soil_Mn             2000 non-null float64\n",
      "Zinc_Method         2000 non-null object\n",
      "Copper_Method       2000 non-null object\n",
      "Iron_Method         2000 non-null object\n",
      "Manganese_Method    2000 non-null object\n",
      "dtypes: float64(16), int64(6), object(18)\n",
      "memory usage: 625.1+ KB\n"
     ]
    }
   ],
   "source": [
    "df.info()"
   ]
  },
  {
   "cell_type": "code",
   "execution_count": 7,
   "metadata": {},
   "outputs": [
    {
     "data": {
      "text/html": [
       "<div>\n",
       "<style scoped>\n",
       "    .dataframe tbody tr th:only-of-type {\n",
       "        vertical-align: middle;\n",
       "    }\n",
       "\n",
       "    .dataframe tbody tr th {\n",
       "        vertical-align: top;\n",
       "    }\n",
       "\n",
       "    .dataframe thead th {\n",
       "        text-align: right;\n",
       "    }\n",
       "</style>\n",
       "<table border=\"1\" class=\"dataframe\">\n",
       "  <thead>\n",
       "    <tr style=\"text-align: right;\">\n",
       "      <th></th>\n",
       "      <th>f_ownership</th>\n",
       "      <th>f_ownername</th>\n",
       "      <th>f_panchayat</th>\n",
       "      <th>f_pincode</th>\n",
       "      <th>f_district</th>\n",
       "      <th>f_taluk</th>\n",
       "      <th>f_block</th>\n",
       "      <th>f_mob_no</th>\n",
       "    </tr>\n",
       "  </thead>\n",
       "  <tbody>\n",
       "    <tr>\n",
       "      <th>0</th>\n",
       "      <td>ownland</td>\n",
       "      <td>NaN</td>\n",
       "      <td>524</td>\n",
       "      <td>680617.0</td>\n",
       "      <td>8</td>\n",
       "      <td>41</td>\n",
       "      <td>111</td>\n",
       "      <td>NaN</td>\n",
       "    </tr>\n",
       "    <tr>\n",
       "      <th>1</th>\n",
       "      <td>ownland</td>\n",
       "      <td>NaN</td>\n",
       "      <td>294</td>\n",
       "      <td>NaN</td>\n",
       "      <td>5</td>\n",
       "      <td>24</td>\n",
       "      <td>63</td>\n",
       "      <td>NaN</td>\n",
       "    </tr>\n",
       "    <tr>\n",
       "      <th>2</th>\n",
       "      <td>ownland</td>\n",
       "      <td>NaN</td>\n",
       "      <td>143</td>\n",
       "      <td>NaN</td>\n",
       "      <td>2</td>\n",
       "      <td>8</td>\n",
       "      <td>29</td>\n",
       "      <td>NaN</td>\n",
       "    </tr>\n",
       "    <tr>\n",
       "      <th>3</th>\n",
       "      <td>ownland</td>\n",
       "      <td>NaN</td>\n",
       "      <td>294</td>\n",
       "      <td>NaN</td>\n",
       "      <td>5</td>\n",
       "      <td>24</td>\n",
       "      <td>63</td>\n",
       "      <td>NaN</td>\n",
       "    </tr>\n",
       "    <tr>\n",
       "      <th>4</th>\n",
       "      <td>ownland</td>\n",
       "      <td>NaN</td>\n",
       "      <td>524</td>\n",
       "      <td>680617.0</td>\n",
       "      <td>8</td>\n",
       "      <td>41</td>\n",
       "      <td>111</td>\n",
       "      <td>NaN</td>\n",
       "    </tr>\n",
       "  </tbody>\n",
       "</table>\n",
       "</div>"
      ],
      "text/plain": [
       "  f_ownership  f_ownername  f_panchayat  f_pincode  f_district  f_taluk  \\\n",
       "0     ownland          NaN          524   680617.0           8       41   \n",
       "1     ownland          NaN          294        NaN           5       24   \n",
       "2     ownland          NaN          143        NaN           2        8   \n",
       "3     ownland          NaN          294        NaN           5       24   \n",
       "4     ownland          NaN          524   680617.0           8       41   \n",
       "\n",
       "   f_block  f_mob_no  \n",
       "0      111       NaN  \n",
       "1       63       NaN  \n",
       "2       29       NaN  \n",
       "3       63       NaN  \n",
       "4      111       NaN  "
      ]
     },
     "execution_count": 7,
     "metadata": {},
     "output_type": "execute_result"
    }
   ],
   "source": [
    "df[['f_ownership','f_ownername','f_panchayat','f_pincode','f_district','f_taluk','f_block','f_mob_no']].head()"
   ]
  },
  {
   "cell_type": "code",
   "execution_count": 8,
   "metadata": {},
   "outputs": [],
   "source": [
    "\n",
    "soil_col=['Soil_pH','Soil_ec','Soil_OrganicC','Soil_P','Soil_k','Soil_Ca','Soil_Mg','Soil_s',\n",
    "          'Soil_Zn','Soil_b','Soil_Fe','Soil_Cu','Soil_Mn']"
   ]
  },
  {
   "cell_type": "code",
   "execution_count": 9,
   "metadata": {},
   "outputs": [],
   "source": [
    "methods_col=['Zinc_Method','Copper_Method','Iron_Method','Manganese_Method']"
   ]
  },
  {
   "cell_type": "code",
   "execution_count": 10,
   "metadata": {},
   "outputs": [],
   "source": [
    "f_col=['FarmerName','ContactAddress','f_dateofsampling','f_sex', 'f_surveyno','f_latitude', 'f_longitude', 'f_ownership', 'f_ownername',\n",
    "       'f_panchayat', 'f_pincode', 'f_district', 'f_taluk', 'f_block','f_mob_no',]"
   ]
  },
  {
   "cell_type": "code",
   "execution_count": 11,
   "metadata": {},
   "outputs": [
    {
     "data": {
      "text/plain": [
       "Soil_pH            5.573874\n",
       "Soil_ec            0.227181\n",
       "Soil_OrganicC      1.206468\n",
       "Soil_P            75.865930\n",
       "Soil_k           209.237950\n",
       "Soil_Ca          373.570914\n",
       "Soil_Mg           51.942797\n",
       "Soil_s            11.555962\n",
       "Soil_Zn            5.680801\n",
       "Soil_b             0.577789\n",
       "Soil_Fe           68.614304\n",
       "Soil_Cu            3.673857\n",
       "Soil_Mn           23.975925\n",
       "dtype: float64"
      ]
     },
     "execution_count": 11,
     "metadata": {},
     "output_type": "execute_result"
    }
   ],
   "source": [
    "df[soil_col].mean()"
   ]
  },
  {
   "cell_type": "code",
   "execution_count": 12,
   "metadata": {},
   "outputs": [
    {
     "data": {
      "text/html": [
       "<div>\n",
       "<style scoped>\n",
       "    .dataframe tbody tr th:only-of-type {\n",
       "        vertical-align: middle;\n",
       "    }\n",
       "\n",
       "    .dataframe tbody tr th {\n",
       "        vertical-align: top;\n",
       "    }\n",
       "\n",
       "    .dataframe thead th {\n",
       "        text-align: right;\n",
       "    }\n",
       "</style>\n",
       "<table border=\"1\" class=\"dataframe\">\n",
       "  <thead>\n",
       "    <tr style=\"text-align: right;\">\n",
       "      <th></th>\n",
       "      <th>f_latitude</th>\n",
       "      <th>f_longitude</th>\n",
       "      <th>f_ownername</th>\n",
       "      <th>f_panchayat</th>\n",
       "      <th>f_pincode</th>\n",
       "      <th>f_district</th>\n",
       "      <th>f_taluk</th>\n",
       "      <th>f_block</th>\n",
       "      <th>f_mob_no</th>\n",
       "      <th>Soil_pH</th>\n",
       "      <th>...</th>\n",
       "      <th>Soil_P</th>\n",
       "      <th>Soil_k</th>\n",
       "      <th>Soil_Ca</th>\n",
       "      <th>Soil_Mg</th>\n",
       "      <th>Soil_s</th>\n",
       "      <th>Soil_Zn</th>\n",
       "      <th>Soil_b</th>\n",
       "      <th>Soil_Fe</th>\n",
       "      <th>Soil_Cu</th>\n",
       "      <th>Soil_Mn</th>\n",
       "    </tr>\n",
       "  </thead>\n",
       "  <tbody>\n",
       "    <tr>\n",
       "      <th>count</th>\n",
       "      <td>2000.0</td>\n",
       "      <td>2000.0</td>\n",
       "      <td>0.0</td>\n",
       "      <td>2000.000000</td>\n",
       "      <td>546.000000</td>\n",
       "      <td>2000.000000</td>\n",
       "      <td>2000.000000</td>\n",
       "      <td>2000.000000</td>\n",
       "      <td>3.870000e+02</td>\n",
       "      <td>2000.000000</td>\n",
       "      <td>...</td>\n",
       "      <td>2000.00000</td>\n",
       "      <td>2000.000000</td>\n",
       "      <td>2000.000000</td>\n",
       "      <td>2000.000000</td>\n",
       "      <td>2000.000000</td>\n",
       "      <td>2000.000000</td>\n",
       "      <td>2000.000000</td>\n",
       "      <td>2000.000000</td>\n",
       "      <td>2000.000000</td>\n",
       "      <td>2000.000000</td>\n",
       "    </tr>\n",
       "    <tr>\n",
       "      <th>mean</th>\n",
       "      <td>0.0</td>\n",
       "      <td>0.0</td>\n",
       "      <td>NaN</td>\n",
       "      <td>413.121000</td>\n",
       "      <td>681422.868132</td>\n",
       "      <td>5.958500</td>\n",
       "      <td>27.595000</td>\n",
       "      <td>84.964000</td>\n",
       "      <td>9.395787e+09</td>\n",
       "      <td>5.573874</td>\n",
       "      <td>...</td>\n",
       "      <td>75.86593</td>\n",
       "      <td>209.237950</td>\n",
       "      <td>373.570914</td>\n",
       "      <td>51.942797</td>\n",
       "      <td>11.555962</td>\n",
       "      <td>5.680801</td>\n",
       "      <td>0.577789</td>\n",
       "      <td>68.614304</td>\n",
       "      <td>3.673857</td>\n",
       "      <td>23.975925</td>\n",
       "    </tr>\n",
       "    <tr>\n",
       "      <th>std</th>\n",
       "      <td>0.0</td>\n",
       "      <td>0.0</td>\n",
       "      <td>NaN</td>\n",
       "      <td>283.888768</td>\n",
       "      <td>29355.254943</td>\n",
       "      <td>3.620958</td>\n",
       "      <td>17.942518</td>\n",
       "      <td>57.293664</td>\n",
       "      <td>1.312579e+09</td>\n",
       "      <td>0.673939</td>\n",
       "      <td>...</td>\n",
       "      <td>57.40095</td>\n",
       "      <td>202.927122</td>\n",
       "      <td>379.162491</td>\n",
       "      <td>105.679611</td>\n",
       "      <td>11.653144</td>\n",
       "      <td>6.835201</td>\n",
       "      <td>0.916663</td>\n",
       "      <td>128.355449</td>\n",
       "      <td>26.856054</td>\n",
       "      <td>18.705390</td>\n",
       "    </tr>\n",
       "    <tr>\n",
       "      <th>min</th>\n",
       "      <td>0.0</td>\n",
       "      <td>0.0</td>\n",
       "      <td>NaN</td>\n",
       "      <td>98.000000</td>\n",
       "      <td>6.000000</td>\n",
       "      <td>2.000000</td>\n",
       "      <td>7.000000</td>\n",
       "      <td>20.000000</td>\n",
       "      <td>2.410170e+05</td>\n",
       "      <td>0.600000</td>\n",
       "      <td>...</td>\n",
       "      <td>0.00000</td>\n",
       "      <td>0.700000</td>\n",
       "      <td>0.410000</td>\n",
       "      <td>0.200000</td>\n",
       "      <td>0.060000</td>\n",
       "      <td>0.010000</td>\n",
       "      <td>0.000000</td>\n",
       "      <td>0.180000</td>\n",
       "      <td>0.010000</td>\n",
       "      <td>0.100000</td>\n",
       "    </tr>\n",
       "    <tr>\n",
       "      <th>25%</th>\n",
       "      <td>0.0</td>\n",
       "      <td>0.0</td>\n",
       "      <td>NaN</td>\n",
       "      <td>152.000000</td>\n",
       "      <td>680734.000000</td>\n",
       "      <td>2.000000</td>\n",
       "      <td>8.000000</td>\n",
       "      <td>30.000000</td>\n",
       "      <td>9.447146e+09</td>\n",
       "      <td>5.200000</td>\n",
       "      <td>...</td>\n",
       "      <td>35.00000</td>\n",
       "      <td>86.000000</td>\n",
       "      <td>163.820000</td>\n",
       "      <td>14.900000</td>\n",
       "      <td>2.275000</td>\n",
       "      <td>1.300000</td>\n",
       "      <td>0.077500</td>\n",
       "      <td>13.900000</td>\n",
       "      <td>0.970000</td>\n",
       "      <td>10.900000</td>\n",
       "    </tr>\n",
       "    <tr>\n",
       "      <th>50%</th>\n",
       "      <td>0.0</td>\n",
       "      <td>0.0</td>\n",
       "      <td>NaN</td>\n",
       "      <td>337.000000</td>\n",
       "      <td>680734.000000</td>\n",
       "      <td>5.000000</td>\n",
       "      <td>23.000000</td>\n",
       "      <td>69.000000</td>\n",
       "      <td>9.526616e+09</td>\n",
       "      <td>5.600000</td>\n",
       "      <td>...</td>\n",
       "      <td>65.00000</td>\n",
       "      <td>187.000000</td>\n",
       "      <td>317.100000</td>\n",
       "      <td>24.500000</td>\n",
       "      <td>6.810000</td>\n",
       "      <td>2.890000</td>\n",
       "      <td>0.560000</td>\n",
       "      <td>26.500000</td>\n",
       "      <td>2.500000</td>\n",
       "      <td>19.325000</td>\n",
       "    </tr>\n",
       "    <tr>\n",
       "      <th>75%</th>\n",
       "      <td>0.0</td>\n",
       "      <td>0.0</td>\n",
       "      <td>NaN</td>\n",
       "      <td>566.000000</td>\n",
       "      <td>685501.000000</td>\n",
       "      <td>8.000000</td>\n",
       "      <td>40.000000</td>\n",
       "      <td>119.000000</td>\n",
       "      <td>9.846641e+09</td>\n",
       "      <td>6.000000</td>\n",
       "      <td>...</td>\n",
       "      <td>99.00000</td>\n",
       "      <td>263.000000</td>\n",
       "      <td>480.000000</td>\n",
       "      <td>52.200000</td>\n",
       "      <td>23.100000</td>\n",
       "      <td>7.032500</td>\n",
       "      <td>0.840000</td>\n",
       "      <td>86.125000</td>\n",
       "      <td>4.300000</td>\n",
       "      <td>31.800000</td>\n",
       "    </tr>\n",
       "    <tr>\n",
       "      <th>max</th>\n",
       "      <td>0.0</td>\n",
       "      <td>0.0</td>\n",
       "      <td>NaN</td>\n",
       "      <td>1006.000000</td>\n",
       "      <td>689572.000000</td>\n",
       "      <td>13.000000</td>\n",
       "      <td>61.000000</td>\n",
       "      <td>198.000000</td>\n",
       "      <td>9.995965e+09</td>\n",
       "      <td>9.900000</td>\n",
       "      <td>...</td>\n",
       "      <td>472.00000</td>\n",
       "      <td>4225.000000</td>\n",
       "      <td>4627.000000</td>\n",
       "      <td>3041.000000</td>\n",
       "      <td>95.900000</td>\n",
       "      <td>86.100000</td>\n",
       "      <td>34.000000</td>\n",
       "      <td>3807.000000</td>\n",
       "      <td>1097.000000</td>\n",
       "      <td>133.200000</td>\n",
       "    </tr>\n",
       "  </tbody>\n",
       "</table>\n",
       "<p>8 rows × 22 columns</p>\n",
       "</div>"
      ],
      "text/plain": [
       "       f_latitude  f_longitude  f_ownername  f_panchayat      f_pincode  \\\n",
       "count      2000.0       2000.0          0.0  2000.000000     546.000000   \n",
       "mean          0.0          0.0          NaN   413.121000  681422.868132   \n",
       "std           0.0          0.0          NaN   283.888768   29355.254943   \n",
       "min           0.0          0.0          NaN    98.000000       6.000000   \n",
       "25%           0.0          0.0          NaN   152.000000  680734.000000   \n",
       "50%           0.0          0.0          NaN   337.000000  680734.000000   \n",
       "75%           0.0          0.0          NaN   566.000000  685501.000000   \n",
       "max           0.0          0.0          NaN  1006.000000  689572.000000   \n",
       "\n",
       "        f_district      f_taluk      f_block      f_mob_no      Soil_pH  \\\n",
       "count  2000.000000  2000.000000  2000.000000  3.870000e+02  2000.000000   \n",
       "mean      5.958500    27.595000    84.964000  9.395787e+09     5.573874   \n",
       "std       3.620958    17.942518    57.293664  1.312579e+09     0.673939   \n",
       "min       2.000000     7.000000    20.000000  2.410170e+05     0.600000   \n",
       "25%       2.000000     8.000000    30.000000  9.447146e+09     5.200000   \n",
       "50%       5.000000    23.000000    69.000000  9.526616e+09     5.600000   \n",
       "75%       8.000000    40.000000   119.000000  9.846641e+09     6.000000   \n",
       "max      13.000000    61.000000   198.000000  9.995965e+09     9.900000   \n",
       "\n",
       "          ...           Soil_P       Soil_k      Soil_Ca      Soil_Mg  \\\n",
       "count     ...       2000.00000  2000.000000  2000.000000  2000.000000   \n",
       "mean      ...         75.86593   209.237950   373.570914    51.942797   \n",
       "std       ...         57.40095   202.927122   379.162491   105.679611   \n",
       "min       ...          0.00000     0.700000     0.410000     0.200000   \n",
       "25%       ...         35.00000    86.000000   163.820000    14.900000   \n",
       "50%       ...         65.00000   187.000000   317.100000    24.500000   \n",
       "75%       ...         99.00000   263.000000   480.000000    52.200000   \n",
       "max       ...        472.00000  4225.000000  4627.000000  3041.000000   \n",
       "\n",
       "            Soil_s      Soil_Zn       Soil_b      Soil_Fe      Soil_Cu  \\\n",
       "count  2000.000000  2000.000000  2000.000000  2000.000000  2000.000000   \n",
       "mean     11.555962     5.680801     0.577789    68.614304     3.673857   \n",
       "std      11.653144     6.835201     0.916663   128.355449    26.856054   \n",
       "min       0.060000     0.010000     0.000000     0.180000     0.010000   \n",
       "25%       2.275000     1.300000     0.077500    13.900000     0.970000   \n",
       "50%       6.810000     2.890000     0.560000    26.500000     2.500000   \n",
       "75%      23.100000     7.032500     0.840000    86.125000     4.300000   \n",
       "max      95.900000    86.100000    34.000000  3807.000000  1097.000000   \n",
       "\n",
       "           Soil_Mn  \n",
       "count  2000.000000  \n",
       "mean     23.975925  \n",
       "std      18.705390  \n",
       "min       0.100000  \n",
       "25%      10.900000  \n",
       "50%      19.325000  \n",
       "75%      31.800000  \n",
       "max     133.200000  \n",
       "\n",
       "[8 rows x 22 columns]"
      ]
     },
     "execution_count": 12,
     "metadata": {},
     "output_type": "execute_result"
    }
   ],
   "source": [
    "df.describe()"
   ]
  },
  {
   "cell_type": "code",
   "execution_count": 13,
   "metadata": {},
   "outputs": [
    {
     "data": {
      "text/plain": [
       "District            2000\n",
       "Block               2000\n",
       "Panchayath          2000\n",
       "SampleCode          2000\n",
       "FarmerName          2000\n",
       "ContactAddress      2000\n",
       "f_dateofsampling    2000\n",
       "f_sex               2000\n",
       "f_surveyno          2000\n",
       "f_latitude          2000\n",
       "f_longitude         2000\n",
       "f_ownership         2000\n",
       "f_ownername            0\n",
       "f_panchayat         2000\n",
       "f_pincode            546\n",
       "f_district          2000\n",
       "f_taluk             2000\n",
       "f_block             2000\n",
       "f_mob_no             387\n",
       "SoilType            2000\n",
       "crop1               2000\n",
       "crop2               2000\n",
       "crop3               2000\n",
       "Soil_pH             2000\n",
       "Soil_ec             2000\n",
       "Soil_OrganicC       2000\n",
       "Soil_P              2000\n",
       "Soil_k              2000\n",
       "Soil_Ca             2000\n",
       "Soil_Mg             2000\n",
       "Soil_s              2000\n",
       "Soil_Zn             2000\n",
       "Soil_b              2000\n",
       "Soil_Fe             2000\n",
       "Soil_Cu             2000\n",
       "Soil_Mn             2000\n",
       "Zinc_Method         2000\n",
       "Copper_Method       2000\n",
       "Iron_Method         2000\n",
       "Manganese_Method    2000\n",
       "dtype: int64"
      ]
     },
     "execution_count": 13,
     "metadata": {},
     "output_type": "execute_result"
    }
   ],
   "source": [
    "df.count()"
   ]
  },
  {
   "cell_type": "code",
   "execution_count": 14,
   "metadata": {},
   "outputs": [
    {
     "name": "stdout",
     "output_type": "stream",
     "text": [
      "['District' 'Block' 'Panchayath' 'SampleCode' 'FarmerName'\n",
      " 'ContactAddress' 'f_dateofsampling' 'f_sex' 'f_surveyno' 'f_latitude'\n",
      " 'f_longitude' 'f_ownership' 'f_ownername' 'f_panchayat' 'f_pincode'\n",
      " 'f_district' 'f_taluk' 'f_block' 'f_mob_no' 'SoilType' 'crop1' 'crop2'\n",
      " 'crop3' 'Soil_pH' 'Soil_ec' 'Soil_OrganicC' 'Soil_P' 'Soil_k' 'Soil_Ca'\n",
      " 'Soil_Mg' 'Soil_s' 'Soil_Zn' 'Soil_b' 'Soil_Fe' 'Soil_Cu' 'Soil_Mn'\n",
      " 'Zinc_Method' 'Copper_Method' 'Iron_Method' 'Manganese_Method']\n"
     ]
    }
   ],
   "source": [
    "print(df.columns.values)"
   ]
  },
  {
   "cell_type": "code",
   "execution_count": 15,
   "metadata": {},
   "outputs": [
    {
     "data": {
      "text/plain": [
       "(array([0, 1, 2, 3, 4, 5, 6, 7]), <a list of 8 Text xticklabel objects>)"
      ]
     },
     "execution_count": 15,
     "metadata": {},
     "output_type": "execute_result"
    },
    {
     "data": {
      "image/png": "[encoded data removed]",
      "text/plain": [
       "<Figure size 720x360 with 1 Axes>"
      ]
     },
     "metadata": {
      "needs_background": "light"
     },
     "output_type": "display_data"
    }
   ],
   "source": [
    "\n",
    "plt.figure(figsize=(10,5))\n",
    "sns.boxplot(x='District',y='Soil_pH',data=df)\n",
    "plt.title(\" pH in different districts\")\n",
    "plt.xticks(rotation=75)"
   ]
  },
  {
   "cell_type": "code",
   "execution_count": 16,
   "metadata": {},
   "outputs": [
    {
     "data": {
      "text/plain": [
       "(array([0, 1, 2, 3, 4, 5, 6, 7]), <a list of 8 Text xticklabel objects>)"
      ]
     },
     "execution_count": 16,
     "metadata": {},
     "output_type": "execute_result"
    },
    {
     "data": {
      "image/png": "[encoded data removed]",
      "text/plain": [
       "<Figure size 720x360 with 1 Axes>"
      ]
     },
     "metadata": {
      "needs_background": "light"
     },
     "output_type": "display_data"
    }
   ],
   "source": [
    "plt.figure(figsize=(10,5))\n",
    "sns.boxplot(x='District',y='Soil_k',data=df)\n",
    "plt.title(\" potassium in different districts\")\n",
    "plt.xticks(rotation=75)"
   ]
  },
  {
   "cell_type": "code",
   "execution_count": 17,
   "metadata": {},
   "outputs": [
    {
     "data": {
      "text/plain": [
       "(array([0, 1, 2, 3, 4, 5, 6, 7]), <a list of 8 Text xticklabel objects>)"
      ]
     },
     "execution_count": 17,
     "metadata": {},
     "output_type": "execute_result"
    },
    {
     "data": {
      "image/png": "[encoded data removed]",
      "text/plain": [
       "<Figure size 720x360 with 1 Axes>"
      ]
     },
     "metadata": {
      "needs_background": "light"
     },
     "output_type": "display_data"
    }
   ],
   "source": [
    "plt.figure(figsize=(10,5))\n",
    "sns.boxplot(x='District',y='Soil_Ca',data=df)\n",
    "plt.title(\"Calcium in different districts\")\n",
    "plt.xticks(rotation=75)"
   ]
  },
  {
   "cell_type": "code",
   "execution_count": 18,
   "metadata": {},
   "outputs": [
    {
     "data": {
      "text/plain": [
       "Text(0.5, 1.0, 'Mangnese distribution')"
      ]
     },
     "execution_count": 18,
     "metadata": {},
     "output_type": "execute_result"
    },
    {
     "data": {
      "image/png": "[encoded data removed]",
      "text/plain": [
       "<Figure size 720x360 with 1 Axes>"
      ]
     },
     "metadata": {
      "needs_background": "light"
     },
     "output_type": "display_data"
    }
   ],
   "source": [
    "plt.figure(figsize=(10,5))\n",
    "sns.boxplot(x='District',y='Soil_Mn',data=df)\n",
    "plt.xticks(rotation=65)\n",
    "plt.title('Mangnese distribution')"
   ]
  },
  {
   "cell_type": "code",
   "execution_count": 24,
   "metadata": {},
   "outputs": [
    {
     "data": {
      "text/plain": [
       "<matplotlib.axes._subplots.AxesSubplot at 0x1f240e08ef0>"
      ]
     },
     "execution_count": 24,
     "metadata": {},
     "output_type": "execute_result"
    },
    {
     "data": {
      "image/png": "[encoded data removed]",
      "text/plain": [
       "<Figure size 432x288 with 2 Axes>"
      ]
     },
     "metadata": {
      "needs_background": "light"
     },
     "output_type": "display_data"
    }
   ],
   "source": [
    "\n",
    "sns.heatmap(mean,cmap=\"YlGnBu\")"
   ]
  },
  {
   "cell_type": "code",
   "execution_count": 25,
   "metadata": {},
   "outputs": [],
   "source": [
    "mean=df.groupby('District')[soil_col].mean()"
   ]
  },
  {
   "cell_type": "code",
   "execution_count": 26,
   "metadata": {},
   "outputs": [
    {
     "data": {
      "text/plain": [
       "<matplotlib.axes._subplots.AxesSubplot at 0x1f240ebeb38>"
      ]
     },
     "execution_count": 26,
     "metadata": {},
     "output_type": "execute_result"
    },
    {
     "data": {
      "image/png": "[encoded data removed]",
      "text/plain": [
       "<Figure size 432x288 with 1 Axes>"
      ]
     },
     "metadata": {
      "needs_background": "light"
     },
     "output_type": "display_data"
    }
   ],
   "source": [
    "df['District'].value_counts(normalize=True).plot(kind='Bar')"
   ]
  },
  {
   "cell_type": "code",
   "execution_count": 27,
   "metadata": {},
   "outputs": [],
   "source": [
    "\n",
    "from scipy import stats"
   ]
  },
  {
   "cell_type": "code",
   "execution_count": 28,
   "metadata": {},
   "outputs": [],
   "source": [
    "district_ph=df[['District','Soil_pH']]"
   ]
  },
  {
   "cell_type": "code",
   "execution_count": 29,
   "metadata": {},
   "outputs": [
    {
     "data": {
      "text/html": [
       "<div>\n",
       "<style scoped>\n",
       "    .dataframe tbody tr th:only-of-type {\n",
       "        vertical-align: middle;\n",
       "    }\n",
       "\n",
       "    .dataframe tbody tr th {\n",
       "        vertical-align: top;\n",
       "    }\n",
       "\n",
       "    .dataframe thead th {\n",
       "        text-align: right;\n",
       "    }\n",
       "</style>\n",
       "<table border=\"1\" class=\"dataframe\">\n",
       "  <thead>\n",
       "    <tr style=\"text-align: right;\">\n",
       "      <th></th>\n",
       "      <th>District</th>\n",
       "      <th>Soil_pH</th>\n",
       "    </tr>\n",
       "  </thead>\n",
       "  <tbody>\n",
       "    <tr>\n",
       "      <th>0</th>\n",
       "      <td>Thrissur</td>\n",
       "      <td>6.7</td>\n",
       "    </tr>\n",
       "    <tr>\n",
       "      <th>1</th>\n",
       "      <td>Kottayam</td>\n",
       "      <td>4.3</td>\n",
       "    </tr>\n",
       "    <tr>\n",
       "      <th>2</th>\n",
       "      <td>Kollam</td>\n",
       "      <td>6.1</td>\n",
       "    </tr>\n",
       "    <tr>\n",
       "      <th>3</th>\n",
       "      <td>Kottayam</td>\n",
       "      <td>4.4</td>\n",
       "    </tr>\n",
       "    <tr>\n",
       "      <th>4</th>\n",
       "      <td>Thrissur</td>\n",
       "      <td>6.3</td>\n",
       "    </tr>\n",
       "  </tbody>\n",
       "</table>\n",
       "</div>"
      ],
      "text/plain": [
       "   District  Soil_pH\n",
       "0  Thrissur      6.7\n",
       "1  Kottayam      4.3\n",
       "2    Kollam      6.1\n",
       "3  Kottayam      4.4\n",
       "4  Thrissur      6.3"
      ]
     },
     "execution_count": 29,
     "metadata": {},
     "output_type": "execute_result"
    }
   ],
   "source": [
    "district_ph.head()"
   ]
  },
  {
   "cell_type": "code",
   "execution_count": 30,
   "metadata": {},
   "outputs": [
    {
     "data": {
      "text/plain": [
       "<matplotlib.axes._subplots.AxesSubplot at 0x1f240f3b828>"
      ]
     },
     "execution_count": 30,
     "metadata": {},
     "output_type": "execute_result"
    },
    {
     "data": {
      "image/png": "[encoded data removed]",
      "text/plain": [
       "<Figure size 432x288 with 1 Axes>"
      ]
     },
     "metadata": {
      "needs_background": "light"
     },
     "output_type": "display_data"
    }
   ],
   "source": [
    "district_ph.groupby('District')['Soil_pH'].mean().plot(kind='bar')"
   ]
  },
  {
   "cell_type": "code",
   "execution_count": 31,
   "metadata": {},
   "outputs": [],
   "source": [
    "group_ph=district_ph.groupby('District')"
   ]
  },
  {
   "cell_type": "code",
   "execution_count": 32,
   "metadata": {},
   "outputs": [
    {
     "data": {
      "text/plain": [
       "<pandas.core.groupby.groupby.DataFrameGroupBy object at 0x000001F240EACB00>"
      ]
     },
     "execution_count": 32,
     "metadata": {},
     "output_type": "execute_result"
    }
   ],
   "source": [
    "\n",
    "group_ph"
   ]
  },
  {
   "cell_type": "code",
   "execution_count": 33,
   "metadata": {},
   "outputs": [
    {
     "data": {
      "text/plain": [
       "Int64Index([ 108,  109,  115,  119,  273,  274,  275,  276,  278,  279,  306,\n",
       "             307,  338,  341,  344,  346,  347,  468,  469,  470,  471,  472,\n",
       "             473,  474,  475,  476,  477,  478, 1183, 1185, 1277, 1292, 1297,\n",
       "            1303, 1308, 1314, 1328, 1338, 1339, 1346, 1350, 1356, 1359, 1360,\n",
       "            1365, 1373, 1376, 1421, 1422, 1428, 1430, 1434, 1437, 1440, 1441,\n",
       "            1463, 1464, 1466, 1467, 1665, 1666, 1667, 1670, 1674, 1679, 1682,\n",
       "            1686, 1691, 1692, 1694, 1695, 1696, 1697, 1698, 1699, 1700, 1701,\n",
       "            1702, 1703, 1704, 1705, 1706, 1707, 1708, 1710, 1714, 1715, 1717,\n",
       "            1718, 1803, 1806],\n",
       "           dtype='int64')"
      ]
     },
     "execution_count": 33,
     "metadata": {},
     "output_type": "execute_result"
    }
   ],
   "source": [
    "\n",
    "group_ph.groups['Alappuzha']"
   ]
  },
  {
   "cell_type": "code",
   "execution_count": 34,
   "metadata": {},
   "outputs": [
    {
     "data": {
      "text/plain": [
       "Int64Index([   0,    4,    6,    9,   10,   11,   13,   15,   18,   23,\n",
       "            ...\n",
       "            1958, 1970, 1971, 1972, 1975, 1979, 1984, 1988, 1992, 1998],\n",
       "           dtype='int64', length=513)"
      ]
     },
     "execution_count": 34,
     "metadata": {},
     "output_type": "execute_result"
    }
   ],
   "source": [
    "group_ph.groups['Thrissur']"
   ]
  },
  {
   "cell_type": "code",
   "execution_count": 35,
   "metadata": {},
   "outputs": [
    {
     "data": {
      "text/plain": [
       "F_onewayResult(statistic=114.13127661362887, pvalue=5.604370845690677e-141)"
      ]
     },
     "execution_count": 35,
     "metadata": {},
     "output_type": "execute_result"
    }
   ],
   "source": [
    "#one way anova\n",
    "stats.f_oneway(group_ph.groups['Alappuzha'],\n",
    "               group_ph.groups['Ernakulam'],\n",
    "               group_ph.groups['Idukki'],\n",
    "              group_ph.groups['Kannur'],group_ph.groups['Kollam'],group_ph.groups['Kottayam'],\n",
    "             group_ph.groups['Kozhikkode'],group_ph.groups['Thrissur'])"
   ]
  },
  {
   "cell_type": "code",
   "execution_count": 36,
   "metadata": {},
   "outputs": [],
   "source": [
    "#as p value<0.05 we can reject null hypothesis which says ph in all district is same.\n"
   ]
  },
  {
   "cell_type": "code",
   "execution_count": 38,
   "metadata": {},
   "outputs": [],
   "source": [
    "\n",
    "district_ca=df[['District','Soil_Ca']]"
   ]
  },
  {
   "cell_type": "code",
   "execution_count": 40,
   "metadata": {},
   "outputs": [
    {
     "data": {
      "text/html": [
       "<div>\n",
       "<style scoped>\n",
       "    .dataframe tbody tr th:only-of-type {\n",
       "        vertical-align: middle;\n",
       "    }\n",
       "\n",
       "    .dataframe tbody tr th {\n",
       "        vertical-align: top;\n",
       "    }\n",
       "\n",
       "    .dataframe thead th {\n",
       "        text-align: right;\n",
       "    }\n",
       "</style>\n",
       "<table border=\"1\" class=\"dataframe\">\n",
       "  <thead>\n",
       "    <tr style=\"text-align: right;\">\n",
       "      <th></th>\n",
       "      <th>District</th>\n",
       "      <th>Soil_Ca</th>\n",
       "    </tr>\n",
       "  </thead>\n",
       "  <tbody>\n",
       "    <tr>\n",
       "      <th>0</th>\n",
       "      <td>Thrissur</td>\n",
       "      <td>913.8</td>\n",
       "    </tr>\n",
       "    <tr>\n",
       "      <th>1</th>\n",
       "      <td>Kottayam</td>\n",
       "      <td>131.1</td>\n",
       "    </tr>\n",
       "    <tr>\n",
       "      <th>2</th>\n",
       "      <td>Kollam</td>\n",
       "      <td>321.2</td>\n",
       "    </tr>\n",
       "    <tr>\n",
       "      <th>3</th>\n",
       "      <td>Kottayam</td>\n",
       "      <td>131.1</td>\n",
       "    </tr>\n",
       "    <tr>\n",
       "      <th>4</th>\n",
       "      <td>Thrissur</td>\n",
       "      <td>814.8</td>\n",
       "    </tr>\n",
       "  </tbody>\n",
       "</table>\n",
       "</div>"
      ],
      "text/plain": [
       "   District  Soil_Ca\n",
       "0  Thrissur    913.8\n",
       "1  Kottayam    131.1\n",
       "2    Kollam    321.2\n",
       "3  Kottayam    131.1\n",
       "4  Thrissur    814.8"
      ]
     },
     "execution_count": 40,
     "metadata": {},
     "output_type": "execute_result"
    }
   ],
   "source": [
    "district_ca.head()"
   ]
  },
  {
   "cell_type": "code",
   "execution_count": 41,
   "metadata": {},
   "outputs": [
    {
     "data": {
      "text/plain": [
       "<matplotlib.axes._subplots.AxesSubplot at 0x1f240f2d710>"
      ]
     },
     "execution_count": 41,
     "metadata": {},
     "output_type": "execute_result"
    },
    {
     "data": {
      "image/png": "[encoded data removed]",
      "text/plain": [
       "<Figure size 432x288 with 1 Axes>"
      ]
     },
     "metadata": {},
     "output_type": "display_data"
    }
   ],
   "source": [
    "district_ca.groupby('District')['Soil_Ca'].mean().plot(kind='pie')"
   ]
  },
  {
   "cell_type": "code",
   "execution_count": 42,
   "metadata": {},
   "outputs": [
    {
     "data": {
      "text/plain": [
       "<matplotlib.axes._subplots.AxesSubplot at 0x1f24100f470>"
      ]
     },
     "execution_count": 42,
     "metadata": {},
     "output_type": "execute_result"
    },
    {
     "data": {
      "image/png": "[encoded data removed]",
      "text/plain": [
       "<Figure size 432x288 with 1 Axes>"
      ]
     },
     "metadata": {},
     "output_type": "display_data"
    }
   ],
   "source": [
    "district_ca.groupby('District')['Soil_Ca'].mean().plot(kind='pie')"
   ]
  },
  {
   "cell_type": "code",
   "execution_count": 44,
   "metadata": {},
   "outputs": [],
   "source": [
    "\n",
    "group_ca=district_ca.groupby('District')"
   ]
  },
  {
   "cell_type": "code",
   "execution_count": 45,
   "metadata": {},
   "outputs": [
    {
     "data": {
      "text/plain": [
       "F_onewayResult(statistic=114.13127661362887, pvalue=5.604370845690677e-141)"
      ]
     },
     "execution_count": 45,
     "metadata": {},
     "output_type": "execute_result"
    }
   ],
   "source": [
    "stats.f_oneway(group_ca.groups['Alappuzha'],\n",
    "               group_ca.groups['Ernakulam'],\n",
    "               group_ca.groups['Idukki'],\n",
    "              group_ca.groups['Kannur'],group_ca.groups['Kollam'],group_ca.groups['Kottayam'],\n",
    "             group_ca.groups['Kozhikkode'],group_ca.groups['Thrissur'])"
   ]
  },
  {
   "cell_type": "code",
   "execution_count": 46,
   "metadata": {},
   "outputs": [],
   "source": [
    "#as p value<0.05 we can reject null hypothesis which says calcium content in all district is same."
   ]
  },
  {
   "cell_type": "code",
   "execution_count": 47,
   "metadata": {},
   "outputs": [],
   "source": [
    "#MULTIPLE COMPARISONS USING TUKEY HSD"
   ]
  },
  {
   "cell_type": "code",
   "execution_count": 48,
   "metadata": {},
   "outputs": [],
   "source": [
    "from statsmodels.stats.multicomp import (pairwise_tukeyhsd,MultiComparison)"
   ]
  },
  {
   "cell_type": "code",
   "execution_count": 49,
   "metadata": {},
   "outputs": [],
   "source": [
    "Multi_ph = MultiComparison(district_ph['Soil_pH'],district_ph['District'])"
   ]
  },
  {
   "cell_type": "code",
   "execution_count": 50,
   "metadata": {},
   "outputs": [],
   "source": [
    "Multi_ca = MultiComparison(district_ca['Soil_Ca'],district_ca['District'])\n"
   ]
  },
  {
   "cell_type": "code",
   "execution_count": 52,
   "metadata": {},
   "outputs": [
    {
     "name": "stdout",
     "output_type": "stream",
     "text": [
      "      Multiple Comparison of Means - Tukey HSD,FWER=0.05     \n",
      "=============================================================\n",
      "  group1     group2    meandiff    lower      upper    reject\n",
      "-------------------------------------------------------------\n",
      "Alappuzha  Ernakulam  2515.4541  2390.4295  2640.4787   True \n",
      "Alappuzha    Idukki    61.7018    -19.6234   143.0271  False \n",
      "Alappuzha    Kannur    -22.5474   -92.6397   47.5449   False \n",
      "Alappuzha    Kollam   -173.2006  -238.0853   -108.316   True \n",
      "Alappuzha   Kottayam   134.6811   66.6263    202.7358   True \n",
      "Alappuzha  Kozhikkode  182.3886  -157.0836   521.8608  False \n",
      "Alappuzha   Thrissur   183.9228   118.1175   249.728    True \n",
      "Ernakulam    Idukki   -2453.7523 -2575.7733 -2331.7314  True \n",
      "Ernakulam    Kannur   -2538.0015 -2652.8416 -2423.1614  True \n",
      "Ernakulam    Kollam   -2688.6548 -2800.3925 -2576.917   True \n",
      "Ernakulam   Kottayam  -2380.773  -2494.381  -2267.1651  True \n",
      "Ernakulam  Kozhikkode -2333.0655 -2684.5149 -1981.6161  True \n",
      "Ernakulam   Thrissur  -2331.5314 -2443.8062 -2219.2565  True \n",
      "  Idukki     Kannur    -84.2492  -148.8317   -19.6667   True \n",
      "  Idukki     Kollam   -234.9024   -293.792  -176.0129   True \n",
      "  Idukki    Kottayam   72.9793    10.6141    135.3445   True \n",
      "  Idukki   Kozhikkode  120.6868  -217.6907   459.0644  False \n",
      "  Idukki    Thrissur   122.221    62.3185    182.1234   True \n",
      "  Kannur     Kollam   -150.6532  -192.6903  -108.6161   True \n",
      "  Kannur    Kottayam   157.2285   110.4465   204.0105   True \n",
      "  Kannur   Kozhikkode  204.936   -130.9188   540.7909  False \n",
      "  Kannur    Thrissur   206.4702   163.0255   249.9148   True \n",
      "  Kollam    Kottayam   307.8817   269.3378   346.4256   True \n",
      "  Kollam   Kozhikkode  355.5893   20.7825    690.396    True \n",
      "  Kollam    Thrissur   357.1234   322.7066   391.5402   True \n",
      " Kottayam  Kozhikkode  47.7076    -287.728   383.1431  False \n",
      " Kottayam   Thrissur   49.2417     9.1673     89.316    True \n",
      "Kozhikkode  Thrissur    1.5341   -333.4523   336.5205  False \n",
      "-------------------------------------------------------------\n"
     ]
    }
   ],
   "source": [
    "print(Multi_ca.tukeyhsd().summary())"
   ]
  },
  {
   "cell_type": "code",
   "execution_count": 53,
   "metadata": {},
   "outputs": [
    {
     "name": "stdout",
     "output_type": "stream",
     "text": [
      "  Multiple Comparison of Means - Tukey HSD,FWER=0.05 \n",
      "=====================================================\n",
      "  group1     group2   meandiff  lower   upper  reject\n",
      "-----------------------------------------------------\n",
      "Alappuzha  Ernakulam   0.1643  -0.2174  0.5459 False \n",
      "Alappuzha    Idukki   -0.0714  -0.3197  0.1768 False \n",
      "Alappuzha    Kannur    0.1027  -0.1113  0.3167 False \n",
      "Alappuzha    Kollam    0.6383   0.4402  0.8363  True \n",
      "Alappuzha   Kottayam  -0.0386  -0.2464  0.1691 False \n",
      "Alappuzha  Kozhikkode  1.0679   0.0316  2.1042  True \n",
      "Alappuzha   Thrissur  -0.1919  -0.3928  0.009  False \n",
      "Ernakulam    Idukki   -0.2357  -0.6082  0.1368 False \n",
      "Ernakulam    Kannur   -0.0616  -0.4121  0.289  False \n",
      "Ernakulam    Kollam    0.474    0.1329  0.8151  True \n",
      "Ernakulam   Kottayam  -0.2029  -0.5497  0.1439 False \n",
      "Ernakulam  Kozhikkode  0.9037  -0.1692  1.9766 False \n",
      "Ernakulam   Thrissur  -0.3561  -0.6989 -0.0134  True \n",
      "  Idukki     Kannur    0.1741   -0.023  0.3713 False \n",
      "  Idukki     Kollam    0.7097   0.5299  0.8895  True \n",
      "  Idukki    Kottayam   0.0328  -0.1575  0.2232 False \n",
      "  Idukki   Kozhikkode  1.1394   0.1064  2.1723  True \n",
      "  Idukki    Thrissur  -0.1204  -0.3033  0.0624 False \n",
      "  Kannur     Kollam    0.5356   0.4072  0.6639  True \n",
      "  Kannur    Kottayam  -0.1413  -0.2841  0.0015 False \n",
      "  Kannur   Kozhikkode  0.9653   -0.06   1.9905 False \n",
      "  Kannur    Thrissur  -0.2946  -0.4272  -0.162  True \n",
      "  Kollam    Kottayam  -0.6769  -0.7945 -0.5592  True \n",
      "  Kollam   Kozhikkode  0.4297  -0.5924  1.4517 False \n",
      "  Kollam    Thrissur  -0.8302  -0.9352 -0.7251  True \n",
      " Kottayam  Kozhikkode  1.1066   0.0826  2.1305  True \n",
      " Kottayam   Thrissur  -0.1533  -0.2756 -0.0309  True \n",
      "Kozhikkode  Thrissur  -1.2598  -2.2824 -0.2372  True \n",
      "-----------------------------------------------------\n"
     ]
    }
   ],
   "source": [
    "print(Multi_ph.tukeyhsd().summary())"
   ]
  },
  {
   "cell_type": "code",
   "execution_count": null,
   "metadata": {},
   "outputs": [],
   "source": []
  }
 ],
 "metadata": {
  "kernelspec": {
   "display_name": "Python 3",
   "language": "python",
   "name": "python3"
  },
  "language_info": {
   "codemirror_mode": {
    "name": "ipython",
    "version": 3
   },
   "file_extension": ".py",
   "mimetype": "text/x-python",
   "name": "python",
   "nbconvert_exporter": "python",
   "pygments_lexer": "ipython3",
   "version": "3.7.1"
  }
 },
 "nbformat": 4,
 "nbformat_minor": 2
}
